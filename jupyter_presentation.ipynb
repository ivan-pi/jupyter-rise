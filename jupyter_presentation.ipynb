{
 "cells": [
  {
   "cell_type": "code",
   "execution_count": 13,
   "metadata": {
    "slideshow": {
     "slide_type": "skip"
    }
   },
   "outputs": [],
   "source": [
    "import numpy as np\n",
    "import matplotlib.pyplot as plt\n",
    "from scipy.integrate import simps as integrate\n",
    "%matplotlib inline\n",
    "plt.rcParams['font.size'] = 20\n",
    "plt.rcParams['figure.figsize'] = (12,4)\n",
    "plt.rcParams['lines.linewidth'] = 3"
   ]
  },
  {
   "cell_type": "code",
   "execution_count": 2,
   "metadata": {
    "slideshow": {
     "slide_type": "skip"
    }
   },
   "outputs": [],
   "source": [
    "def gaussian(x,mu=0.,var=1.):\n",
    "    \"\"\"Returns the value of the Gaussian function.\n",
    "\n",
    "    Parameters\n",
    "    ----------\n",
    "    x : float, array_like\n",
    "        The x-values we would like to evaluate the function at\n",
    "    mu : float\n",
    "        The expectation value. Defaults to 0.\n",
    "    var : float\n",
    "        The variance. Defaults to 1.\n",
    "\n",
    "    Returns\n",
    "    -------\n",
    "    float, array_like\n",
    "        The values of the Gaussian function.\n",
    "    \"\"\"\n",
    "    \n",
    "    return np.exp(-0.5*(x-mu)**2/var)/np.sqrt(var*2*np.pi)"
   ]
  },
  {
   "cell_type": "markdown",
   "metadata": {
    "slideshow": {
     "slide_type": "slide"
    }
   },
   "source": [
    "\n",
    "# Interactive teaching and knowledgement management with Jupyter\n",
    "\n",
    "Klausurtagung BGT 2018\n",
    "\n",
    "<u>Pribec, I.,</u>, Geier, D., Fattahi, E., Becker, T.\n",
    "\n",
    "\n",
    "*Raitenhaslach, 30.11.2018*"
   ]
  },
  {
   "cell_type": "markdown",
   "metadata": {
    "slideshow": {
     "slide_type": "slide"
    }
   },
   "source": [
    "## Agenda\n",
    "1. Highlight the need for better coding practice, version control and (digital) knowledge management.\n",
    "2. Introduce Jupyter Notebook as part of the solution\n",
    "3. Provide a demonstration of using Jupyter to develop and document a script\n",
    "4. Provide an example of how Jupyter can be used for teaching/learning"
   ]
  },
  {
   "cell_type": "markdown",
   "metadata": {
    "slideshow": {
     "slide_type": "slide"
    }
   },
   "source": [
    "## Knowledge management in modern science\n",
    "\n",
    "Science - from latin *scientia* for \"knowledge\".\n",
    "\n",
    "Typical forms of exchanging and preserving knowledge: \n",
    "   * discussions with colleagues (lab knowledge or \"know-how\")\n",
    "   * scientific posters and conference presentations\n",
    "   * journal articles and books"
   ]
  },
  {
   "cell_type": "markdown",
   "metadata": {
    "slideshow": {
     "slide_type": "fragment"
    }
   },
   "source": [
    "But what about \"digital\" knowledge such as _computer programs_ and the _algorithms_/_procedures_ they encapsulate? How do we preserve this?"
   ]
  },
  {
   "cell_type": "markdown",
   "metadata": {
    "slideshow": {
     "slide_type": "notes"
    }
   },
   "source": [
    "* Science - the systematic enterprise of building and organizing knowledge in the form of testable explanations and predictions.\n",
    "* The amount of knowledge is overwhelming. \n",
    "* For books the gatekeepers are librarians, for scientific journals we have the publishing houses and distributors, on a local level we collect folders or entrust our files to a tool like Citavi or Endnote.\n",
    "\n",
    "* part of the knowledge we don't really notice until they take it away are computer programs. Who would do a spreadsheet manually, plot a graph, perform a complex calculation."
   ]
  },
  {
   "cell_type": "markdown",
   "metadata": {
    "slideshow": {
     "slide_type": "slide"
    }
   },
   "source": [
    "## Digital know-how at the BGT\n",
    "\n",
    "Where do we use programming at the BGT?\n",
    "\n",
    "* Signal processing\n",
    "* Image processing\n",
    "* Multivariate statistics and machine learning\n",
    "* Numerical simulation\n",
    "* Scripts related to 3D printing, rheological analysis, mashing kinetics, ...? \n",
    "\n",
    "Besides for a few sentences in a paper or thesis, these tools are being lost, leading to a Sisyphean effort for each newcomer. "
   ]
  },
  {
   "cell_type": "markdown",
   "metadata": {
    "slideshow": {
     "slide_type": "skip"
    }
   },
   "source": [
    "Ultrasound, bioreactors, analytic devices\n",
    "\n",
    "Color, io, feature detection, filtering, morphology, segmentation, restoration, transforms\n",
    "\n",
    "Chemometrics\n",
    "\n",
    "Control and optimization\n",
    "\n",
    "Numerical simulation based on ODEs, PDEs and stochastic models\n",
    "\n",
    "\n",
    "We have to break the cycle \"one PhD student - one code\" and learn to not reinvent the wheel."
   ]
  },
  {
   "cell_type": "markdown",
   "metadata": {
    "slideshow": {
     "slide_type": "subslide"
    }
   },
   "source": [
    "The situation resembles this one:\n",
    "\n",
    "<center>\n",
    "<img src=\"imgs/phd_comic.jpg\" alt=\"Scratch\" class=\"phdcomic\">\n",
    "</center>"
   ]
  },
  {
   "cell_type": "markdown",
   "metadata": {
    "slideshow": {
     "slide_type": "slide"
    }
   },
   "source": [
    "## Standing on the shoulders of Giants\n",
    "\n",
    "\"If I have seen further it is by standing on the shoulders of Giants.\" - Isaac Newton"
   ]
  },
  {
   "cell_type": "markdown",
   "metadata": {
    "slideshow": {
     "slide_type": "fragment"
    }
   },
   "source": [
    "\"With an internet connection, you can stand on the shoulders of as many giants as you’d like.\" - 21. century programmer"
   ]
  },
  {
   "cell_type": "markdown",
   "metadata": {
    "slideshow": {
     "slide_type": "fragment"
    }
   },
   "source": [
    "Let me introduce you to a giant called Jupyter!\n",
    "\n",
    "<center>\n",
    "<img src=\"./imgs/jupyter_logo40.png\" class=\"jupyter_logo\"/>\n",
    "<center>"
   ]
  },
  {
   "cell_type": "markdown",
   "metadata": {
    "slideshow": {
     "slide_type": "skip"
    }
   },
   "source": [
    "We should aim to maximize preservation and improvement of existing tools, and not try to reinvent the wheel anymore. It is on this background that I would like to introduce..."
   ]
  },
  {
   "cell_type": "markdown",
   "metadata": {
    "slideshow": {
     "slide_type": "slide"
    }
   },
   "source": [
    "## What is Jupyter?\n",
    "\n",
    "\"The Jupyter Notebook is an open-source web application that allows you to create and share documents that contain live code, equations, visualizations and narrative text.\"  - Jupyter Project\n",
    "\n",
    "Jupyter is part of the larger Python ecosystem that includes packages such as [**SciPy**](https://www.scipy.org/) (scientific computing), [**Matplotlib**](https://matplotlib.org/) (plotting and visualization), [**Pandas**](https://pandas.pydata.org/) (statistics and data processing), [**Scikit-learn**](https://scikit-learn.org/stable/index.html) (machine learning), [**Scikit-image**](https://scikit-image.org/) (image processing) and many others.\n",
    "\n",
    "Note that Jupyter is not limited to Python, and also has good support for languages such as [R](https://www.r-project.org/about.html) and [Julia](https://julialang.org/). Hence the name, **Ju**-**Py**-te**R** ;)"
   ]
  },
  {
   "cell_type": "markdown",
   "metadata": {
    "slideshow": {
     "slide_type": "skip"
    }
   },
   "source": [
    "* Notebooks can be shared by email, uploaded to Dropbox or saved on sites such as Github and GitLab for with the benefit of version control.\n",
    "* Ability to embed interactive output (widgets, video, images...)."
   ]
  },
  {
   "cell_type": "markdown",
   "metadata": {
    "slideshow": {
     "slide_type": "skip"
    }
   },
   "source": [
    "![](https://imgs.xkcd.com/comics/python.png)"
   ]
  },
  {
   "cell_type": "markdown",
   "metadata": {
    "slideshow": {
     "slide_type": "skip"
    }
   },
   "source": [
    "## Some more Jupyter trivia\n",
    "\n",
    "* The name **Ju**-**Py**-te-**R** is a reference to the three core languages supported by Jupyter, which are: Julia, Python, and R. The name is also an homage to Galileo's astronomical notebooks recording the discovery of the moons of Jupiter \n",
    "* In 2017 Jupyter won the ACM Software System Award \"for developing a software system that has had a lasting influence, reflected in contributions to concepts, in commercial acceptance, or both.\" Previous awards have been given to Unix, Xerox Alto (the first desktop computer), System R (predecessor of SQL), the World Wide Web, S (predecessor of R).\n",
    "* Scientists from the LIGO detector that discovered gravitational waves (and won a Nobel prize) used Jupyter to process the results which are openly available.\n",
    "* Nature recently published an article on\n",
    "[Why Jupyter is data scientists’ computational notebook of choice](https://www.nature.com/articles/d41586-018-07196-1), Nature 563, 145-146 (2018)\n",
    "* Companies that use Jupyter: Google, Microsoft, IBM, Bloomberg, Soundcloud, NASA..."
   ]
  },
  {
   "cell_type": "markdown",
   "metadata": {
    "slideshow": {
     "slide_type": "slide"
    }
   },
   "source": [
    "## Jupyter demonstration\n",
    "\n",
    "### Kalman filter in a nutshell\n",
    "\n",
    "The Kalman filter is a state estimation algorithm used for signal processing and data fusion. Essentially it provides a rule on how to combine multiple inaccurate sources of information to yield a more accurate estimate of the state.\n",
    "\n",
    "Kalman filters can be found at work in every satellite navigation device, as well as in your smartphone and notebook touchpads. Other applications include computer vision, weather forecasting and industrial process control."
   ]
  },
  {
   "cell_type": "markdown",
   "metadata": {
    "slideshow": {
     "slide_type": "slide"
    }
   },
   "source": [
    "### Multiplying gaussians\n",
    "\n",
    "The foundation for understanding Kalman filters are Gaussian functions."
   ]
  },
  {
   "cell_type": "code",
   "execution_count": 14,
   "metadata": {
    "slideshow": {
     "slide_type": "-"
    }
   },
   "outputs": [
    {
     "data": {
      "image/png": "[encoded data removed]",
      "text/plain": [
       "<Figure size 864x288 with 1 Axes>"
      ]
     },
     "metadata": {
      "needs_background": "light"
     },
     "output_type": "display_data"
    }
   ],
   "source": [
    "x = np.linspace(-1,1,500)\n",
    "g1 = gaussian(x,0.3,0.04)\n",
    "g2 = gaussian(x,-0.2,0.02)\n",
    "plt.plot(x,g1,x,g2)\n",
    "\n",
    "plt.xlabel(r\"$x$ - position\"); plt.ylabel(r\"$p(x)$ - state\")\n",
    "\n",
    "gnew = g1*g2/integrate(g1*g2,x) # Multiply and normalize resulting distribution\n",
    "plt.plot(x,gnew);\n",
    "plt.legend(labels=[\"Measurement\",\"Model Prediction\",\"New estimate\"],fontsize=12); plt.show()"
   ]
  },
  {
   "cell_type": "markdown",
   "metadata": {
    "slideshow": {
     "slide_type": "slide"
    }
   },
   "source": [
    "### The filter cycle\n",
    "\n",
    "<center>\n",
    "<img src=\"my_kalman_cycle.png\">\n",
    "</center>"
   ]
  },
  {
   "cell_type": "markdown",
   "metadata": {
    "slideshow": {
     "slide_type": "slide"
    }
   },
   "source": [
    "### Prediction step\n",
    "\n",
    "The prediction moves the state of the system $x$ forward according to a process model. In terms of linear algebra it breaks down to this:\n",
    "\n",
    "\\begin{align}\n",
    "x' &= Ax + Bu \\\\\n",
    "P' &= A P A^T + Q\n",
    "\\end{align}"
   ]
  },
  {
   "cell_type": "code",
   "execution_count": 4,
   "metadata": {
    "slideshow": {
     "slide_type": "-"
    }
   },
   "outputs": [],
   "source": [
    "def prediction_update(x,u,A,B,P,Q):\n",
    "    \n",
    "    xp = A.dot(x) + B.dot(u)\n",
    "    Pp = A.dot(P).dot(A.T) + Q\n",
    "    \n",
    "    return xp, Pp"
   ]
  },
  {
   "cell_type": "markdown",
   "metadata": {
    "slideshow": {
     "slide_type": "slide"
    }
   },
   "source": [
    "### Measurement step\n",
    "\n",
    "The predictions are then corrected by the measurements:\n",
    "\n",
    "\\begin{align}\n",
    "x &= x' + K(y-Cx')\\\\\n",
    "K &= P' C^T (C P' C^T + R)^{-1}\\\\\n",
    "P &= P' - KCP'\n",
    "\\end{align}"
   ]
  },
  {
   "cell_type": "code",
   "execution_count": 5,
   "metadata": {
    "slideshow": {
     "slide_type": "-"
    }
   },
   "outputs": [],
   "source": [
    "def measurement_update(xp,y,C,Pp,R):\n",
    "    \n",
    "    K = Pp.dot(C.T)*np.linalg.pinv(C.dot(Pp).dot(C.T) + R)\n",
    "    x = xp + K.dot(y - C.dot(xp))\n",
    "    P = Pp - K.dot(C).dot(Pp)\n",
    "    \n",
    "    return x, P, K"
   ]
  },
  {
   "cell_type": "markdown",
   "metadata": {
    "slideshow": {
     "slide_type": "slide"
    }
   },
   "source": [
    "### Initializing the filter"
   ]
  },
  {
   "cell_type": "code",
   "execution_count": 16,
   "metadata": {},
   "outputs": [],
   "source": [
    "num_iter = 100 # Number of iterations\n",
    "truth = 42.0   # Truth value ;)\n",
    "\n",
    "y = np.random.normal(truth,1,size=num_iter) # Generate measurements\n",
    "\n",
    "Q = 0.005 # Process variance\n",
    "\n",
    "# Initalize storage arrays\n",
    "xp = np.zeros(num_iter); Pp = np.zeros([num_iter,1])\n",
    "x = np.zeros(num_iter); P = np.zeros([num_iter,1]); K = np.zeros(num_iter)\n",
    "\n",
    "R = np.array([[1.5**2]]) # Measurement variance\n",
    "\n",
    "x[0] = 45.0 # Initial estimate\n",
    "P[0] = np.array([[1.0]])  # Initial covariance\n",
    "\n",
    "A = np.array([[1]]); B = np.array([[0]]); u = 0; C = np.array([[1]]) # Trivial model"
   ]
  },
  {
   "cell_type": "markdown",
   "metadata": {
    "slideshow": {
     "slide_type": "slide"
    }
   },
   "source": [
    "### Performing the filtering\n",
    "\n",
    "With the `prediction` and `measurement_update` functions defined, it is finally time to do some filtering!"
   ]
  },
  {
   "cell_type": "code",
   "execution_count": 17,
   "metadata": {
    "slideshow": {
     "slide_type": "-"
    }
   },
   "outputs": [],
   "source": [
    "# Kalman filter time loop\n",
    "for k in range(1,num_iter):\n",
    "    \n",
    "    xp[k], Pp[k] = prediction_update(x[k-1],u,A,B,P[k-1],Q)\n",
    "    x[k],P[k],K[k] = measurement_update(xp[k],y[k],C,Pp[k],R)"
   ]
  },
  {
   "cell_type": "markdown",
   "metadata": {},
   "source": [
    "Let's take a look at the first 20 values and check if they are falling:"
   ]
  },
  {
   "cell_type": "code",
   "execution_count": 18,
   "metadata": {},
   "outputs": [
    {
     "data": {
      "text/plain": [
       "array([45.        , 44.31405572, 43.89307115, 43.40592468, 43.36215376,\n",
       "       43.07188451, 42.9377799 , 42.97003831, 42.91670143, 42.73597774])"
      ]
     },
     "execution_count": 18,
     "metadata": {},
     "output_type": "execute_result"
    }
   ],
   "source": [
    "x[:10]"
   ]
  },
  {
   "cell_type": "markdown",
   "metadata": {
    "slideshow": {
     "slide_type": "slide"
    }
   },
   "source": [
    "### Plotting the results"
   ]
  },
  {
   "cell_type": "code",
   "execution_count": 19,
   "metadata": {
    "slideshow": {
     "slide_type": "-"
    }
   },
   "outputs": [
    {
     "data": {
      "image/png": "[encoded data removed]",
      "text/plain": [
       "<Figure size 864x288 with 1 Axes>"
      ]
     },
     "metadata": {
      "needs_background": "light"
     },
     "output_type": "display_data"
    }
   ],
   "source": [
    "plt.plot(y,'o')\n",
    "plt.plot(y,'-',color='C0',alpha=0.2)\n",
    "plt.plot(x,'-')\n",
    "plt.hlines(truth,0,num_iter,lw=1,linestyle='dashed',color='C1')\n",
    "plt.xlabel(\"Iteration\")\n",
    "plt.ylabel(\"State\")\n",
    "plt.show()"
   ]
  },
  {
   "cell_type": "code",
   "execution_count": 10,
   "metadata": {
    "slideshow": {
     "slide_type": "skip"
    }
   },
   "outputs": [
    {
     "data": {
      "image/png": "[encoded data removed]",
      "text/plain": [
       "<Figure size 432x288 with 1 Axes>"
      ]
     },
     "metadata": {
      "needs_background": "light"
     },
     "output_type": "display_data"
    }
   ],
   "source": [
    "plt.plot(K[1:])\n",
    "plt.xlabel(\"Iteration\",fontsize=14)\n",
    "plt.ylabel(\"Kalman gain\",fontsize=14)\n",
    "plt.show()"
   ]
  },
  {
   "cell_type": "markdown",
   "metadata": {
    "slideshow": {
     "slide_type": "slide"
    }
   },
   "source": [
    "## Other notebook features\n",
    "\n",
    "* Videos, audio and images can be embedded in notebooks.\n",
    "* You can build different widgets (sliders, buttons, dropdown menus) to interact with your data.\n",
    "* Notebooks can be exported to HTML and served as a website or saved as a pdf.\n",
    "* Presentation mode (used right now!)\n",
    "* Built-in \"magic\" commands for code profiling, shell access and much more."
   ]
  },
  {
   "cell_type": "markdown",
   "metadata": {
    "slideshow": {
     "slide_type": "slide"
    }
   },
   "source": [
    "## Ideas for using Jupyter\n",
    "\n",
    "* Documenting code functionality and computational workflows\n",
    "* Laboratory journal with interactive elements\n",
    "* Paper supplementary material\n",
    "* Executable books\n",
    "* Scientific blogging tool\n",
    "* Lecture course material (possibility of automatically graded assignments)\n"
   ]
  },
  {
   "cell_type": "markdown",
   "metadata": {
    "slideshow": {
     "slide_type": "slide"
    }
   },
   "source": [
    "## Summary\n",
    "\n",
    "* Jupyter Notebook is a great tool for exploratory data analysis, scientific visualization, numerical simulation, and much more.\n",
    "* Jupyter eliminates the complexity of getting started programming and facilitates rapid iteration and learning, and also facilitates teaching computational topics.\n",
    "* Instead of focusing on learning to code, Jupyter can help us focus on _coding to learn_.\n",
    "* By documenting our computational work we can make it easier for those following our footsteps.\n",
    "\n",
    "If you want to try Jupyter yourself simply visit the site [try.jupyter.org](https://jupyter.org/try).\n",
    "\n",
    "\n",
    "\n"
   ]
  },
  {
   "cell_type": "markdown",
   "metadata": {
    "slideshow": {
     "slide_type": "slide"
    }
   },
   "source": [
    "```Python\n",
    "if questions:\n",
    "    try:\n",
    "        answer()\n",
    "    except RuntimeError:\n",
    "        pass\n",
    "else:\n",
    "    print('Thank you')\n",
    "```"
   ]
  },
  {
   "cell_type": "markdown",
   "metadata": {
    "slideshow": {
     "slide_type": "skip"
    }
   },
   "source": [
    "[A gallery of interesting notebooks](https://github.com/jupyter/jupyter/wiki/A-gallery-of-interesting-Jupyter-Notebooks)\n",
    "\n",
    "[Interactive notebooks: sharing the code](https://www.nature.com/news/interactive-notebooks-sharing-the-code-1.16261)\n",
    "\n",
    "[IPython & Project Jupyter](https://speakerdeck.com/fperez/ipython-and-project-jupyter-a-language-independent-architecture-for-open-computing-and-data-science)\n",
    "\n",
    "[The Scientific Paper is Obsolete](https://www.theatlantic.com/science/archive/2018/04/the-scientific-paper-is-obsolete/556676/)\n"
   ]
  },
  {
   "cell_type": "code",
   "execution_count": 11,
   "metadata": {
    "slideshow": {
     "slide_type": "skip"
    }
   },
   "outputs": [
    {
     "data": {
      "application/vnd.jupyter.widget-view+json": {
       "model_id": "f54b5393b6584116aa11fdfdfb87e61e",
       "version_major": 2,
       "version_minor": 0
      },
      "text/plain": [
       "interactive(children=(FloatSlider(value=4.0, description='frequency', max=22.0, min=1.0, step=0.5), IntSlider(…"
      ]
     },
     "metadata": {},
     "output_type": "display_data"
    }
   ],
   "source": [
    "# Import matplotlib (plotting) and numpy (numerical arrays).\n",
    "# This enables their use in the Notebook.\n",
    "%matplotlib inline\n",
    "import matplotlib.pyplot as plt\n",
    "import numpy as np\n",
    "\n",
    "# Import IPython's interact function which is used below to\n",
    "# build the interactive widgets\n",
    "from ipywidgets import interact\n",
    "\n",
    "def plot_sine(frequency=4.0, grid_points=12, plot_original=True):\n",
    "    \"\"\"\n",
    "    Plot discrete samples of a sine wave on the interval ``[0, 1]``.\n",
    "    \"\"\"\n",
    "    x = np.linspace(0, 1, grid_points + 2)\n",
    "    y = np.sin(2 * frequency * np.pi * x)\n",
    "\n",
    "    xf = np.linspace(0, 1, 1000)\n",
    "    yf = np.sin(2 * frequency * np.pi * xf)\n",
    "\n",
    "    fig, ax = plt.subplots(figsize=(8, 6))\n",
    "    ax.set_xlabel('x')\n",
    "    ax.set_ylabel('signal')\n",
    "    ax.set_title('Aliasing in discretely sampled periodic signal')\n",
    "\n",
    "    if plot_original:\n",
    "        ax.plot(xf, yf, color='red', linestyle='solid', linewidth=2)\n",
    "\n",
    "    ax.plot(x,  y,  marker='o', linewidth=2)\n",
    "\n",
    "# The interact function automatically builds a user interface for exploring the\n",
    "# plot_sine function.\n",
    "interact(plot_sine, frequency=(1.0, 22.0, 0.5), grid_points=(10, 16, 1), plot_original=True);"
   ]
  },
  {
   "cell_type": "code",
   "execution_count": 12,
   "metadata": {
    "slideshow": {
     "slide_type": "skip"
    }
   },
   "outputs": [
    {
     "data": {
      "application/vnd.jupyter.widget-view+json": {
       "model_id": "eb4bfb071e7a4bd5bb64dcae92c7df0f",
       "version_major": 2,
       "version_minor": 0
      },
      "text/plain": [
       "interactive(children=(IntSlider(value=30, description='max_sigma', max=40, min=10, step=2), FloatSlider(value=…"
      ]
     },
     "metadata": {},
     "output_type": "display_data"
    }
   ],
   "source": [
    "# Import matplotlib (plotting), skimage (image processing) and interact (user interfaces)\n",
    "# This enables their use in the Notebook.\n",
    "%matplotlib inline\n",
    "from matplotlib import pyplot as plt\n",
    "\n",
    "from skimage import data\n",
    "from skimage.feature import blob_doh\n",
    "from skimage.color import rgb2gray\n",
    "\n",
    "from ipywidgets import interact, fixed\n",
    "\n",
    "# Extract the first 500px square of the Hubble Deep Field.\n",
    "image = data.hubble_deep_field()[0:500, 0:500]\n",
    "image_gray = rgb2gray(image)\n",
    "\n",
    "def plot_blobs(max_sigma=30, threshold=0.1, gray=False):\n",
    "    \"\"\"\n",
    "    Plot the image and the blobs that have been found.\n",
    "    \"\"\"\n",
    "    blobs = blob_doh(image_gray, max_sigma=max_sigma, threshold=threshold)\n",
    "    \n",
    "    fig, ax = plt.subplots(figsize=(8,8))\n",
    "    ax.set_title('Galaxies in the Hubble Deep Field')\n",
    "    \n",
    "    if gray:\n",
    "        ax.imshow(image_gray, interpolation='nearest', cmap='gray_r')\n",
    "        circle_color = 'red'\n",
    "    else:\n",
    "        ax.imshow(image, interpolation='nearest')\n",
    "        circle_color = 'yellow'\n",
    "    for blob in blobs:\n",
    "        y, x, r = blob\n",
    "        c = plt.Circle((x, y), r, color=circle_color, linewidth=2, fill=False)\n",
    "        ax.add_patch(c)\n",
    "\n",
    "# Use interact to explore the galaxy detection algorithm.\n",
    "interact(plot_blobs, max_sigma=(10, 40, 2), threshold=(0.005, 0.02, 0.001));"
   ]
  }
 ],
 "metadata": {
  "celltoolbar": "Slideshow",
  "kernelspec": {
   "display_name": "Python 3",
   "language": "python",
   "name": "python3"
  },
  "language_info": {
   "codemirror_mode": {
    "name": "ipython",
    "version": 3
   },
   "file_extension": ".py",
   "mimetype": "text/x-python",
   "name": "python",
   "nbconvert_exporter": "python",
   "pygments_lexer": "ipython3",
   "version": "3.7.0"
  },
  "rise": {
   "autolaunch": true,
   "height": "100%",
   "overlay": "<div class='myheader'><img src='imgs/TUM_150_jahre_badge_blau_s.svg'/></div></div><div class='footer'><img class='footer-image-bgt' src='imgs/bgt_footer.png'/><div class='text-container'><span class='text'>Ivan Pribec | Klausurtagung BGT 2018 | 30<sup>th</sup> of November 2018</span></div></div>",
   "width": "100%"
  }
 },
 "nbformat": 4,
 "nbformat_minor": 2
}
